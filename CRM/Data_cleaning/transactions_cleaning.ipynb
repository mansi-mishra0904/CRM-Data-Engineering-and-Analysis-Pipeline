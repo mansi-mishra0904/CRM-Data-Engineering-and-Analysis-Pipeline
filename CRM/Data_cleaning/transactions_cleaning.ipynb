{
 "cells": [
  {
   "cell_type": "code",
   "execution_count": 1,
   "metadata": {},
   "outputs": [
    {
     "name": "stderr",
     "output_type": "stream",
     "text": [
      "Setting default log level to \"WARN\".\n",
      "To adjust logging level use sc.setLogLevel(newLevel). For SparkR, use setLogLevel(newLevel).\n",
      "24/09/13 06:23:44 WARN NativeCodeLoader: Unable to load native-hadoop library for your platform... using builtin-java classes where applicable\n"
     ]
    }
   ],
   "source": [
    "%run /spark-data/CRM/utilities/common_utility.ipynb"
   ]
  },
  {
   "cell_type": "markdown",
   "metadata": {},
   "source": [
    "# Initialize Spark Session"
   ]
  },
  {
   "cell_type": "code",
   "execution_count": 2,
   "metadata": {},
   "outputs": [
    {
     "name": "stderr",
     "output_type": "stream",
     "text": [
      "24/09/13 06:23:45 WARN SparkSession: Using an existing Spark session; only runtime SQL configurations will take effect.\n"
     ]
    }
   ],
   "source": [
    "spark = initialize_spark_session(\"Transactions Cleaning\")"
   ]
  },
  {
   "cell_type": "markdown",
   "metadata": {},
   "source": [
    "# Logs Configuration"
   ]
  },
  {
   "cell_type": "code",
   "execution_count": 3,
   "metadata": {},
   "outputs": [
    {
     "name": "stderr",
     "output_type": "stream",
     "text": [
      "2024-09-13 06:23:45,848 - logger - INFO - \u001b[92mLogger initialized with dynamic path!\u001b[0m\n"
     ]
    }
   ],
   "source": [
    "log_file_path = 'logs/transactions_cleaning.log'\n",
    "logger = initialize_logger(log_file_path)\n",
    "\n",
    "logger.info(\"Logger initialized with dynamic path!\")"
   ]
  },
  {
   "cell_type": "markdown",
   "metadata": {},
   "source": [
    "# Dataset Load"
   ]
  },
  {
   "cell_type": "code",
   "execution_count": 4,
   "metadata": {},
   "outputs": [
    {
     "name": "stderr",
     "output_type": "stream",
     "text": [
      "2024-09-13 06:23:48,726 - logger - INFO - \u001b[92mDisplayed first 5 records of Spark DataFrame.\u001b[0m\n"
     ]
    },
    {
     "name": "stdout",
     "output_type": "stream",
     "text": [
      "+------------------------------------+------------------------------------+----------+----------+------+------------------------------------+\n",
      "|Transaction_ID                      |Customer_ID                         |Product_ID|Date      |Amount|Sales_Rep_ID                        |\n",
      "+------------------------------------+------------------------------------+----------+----------+------+------------------------------------+\n",
      "|31190b6c-54cd-4cdb-a89e-7d8633b386df|d7522cab-f713-4c74-9d32-fadba3a20a85|48        |2024-04-01|234.0 |8aede4f3-bd43-45a7-9edc-5d69a2645fa1|\n",
      "|05d4bcca-dc8e-405c-81aa-d2bfc2acbc00|dae0689d-0c38-440c-b921-fe2413c3df3b|3         |2024-03-28|119.0 |c48b42a3-544b-4542-8528-4208e6f80b46|\n",
      "|9b6e01be-1814-41e0-bd7d-3ae2f845f5bf|075005e4-bb34-4965-bb28-fd100b10c45c|26        |2024-06-09|240.0 |d7558c8d-5355-48e7-8b88-30ab41ff2b8f|\n",
      "|46bd8f7c-20e0-405b-a1fe-b78e2b9a6813|ec910504-7738-463c-b269-1b1617b09ad1|37        |2024-03-24|451.0 |d0fa26a0-d161-4976-ae9a-9c5f74fc103c|\n",
      "|f02dded4-81bf-4310-8715-65e4fa9e1042|84441f52-77e5-450b-97d2-80f64c5c4fb4|4         |2024-05-29|78.0  |8aede4f3-bd43-45a7-9edc-5d69a2645fa1|\n",
      "+------------------------------------+------------------------------------+----------+----------+------+------------------------------------+\n",
      "only showing top 5 rows\n",
      "\n"
     ]
    }
   ],
   "source": [
    "transactions_path = \"/spark-data/CRM/Dataset/transactions.csv\"\n",
    "transactions_df = load_data_files(transactions_path)\n",
    "display_dataframes(transactions_df)"
   ]
  },
  {
   "cell_type": "markdown",
   "metadata": {},
   "source": [
    "# Data Preprocessing"
   ]
  },
  {
   "cell_type": "code",
   "execution_count": 5,
   "metadata": {},
   "outputs": [
    {
     "name": "stderr",
     "output_type": "stream",
     "text": [
      "2024-09-13 06:23:48,740 - logger - INFO - \u001b[92mStep 1: Counting missing values in each column before filling them...\u001b[0m\n",
      "2024-09-13 06:23:49,388 - logger - INFO - \u001b[92mStep 2: Calculating the mean value of the 'Amount' column...\u001b[0m\n"
     ]
    },
    {
     "name": "stdout",
     "output_type": "stream",
     "text": [
      "+--------------+-----------+----------+----+------+------------+\n",
      "|Transaction_ID|Customer_ID|Product_ID|Date|Amount|Sales_Rep_ID|\n",
      "+--------------+-----------+----------+----+------+------------+\n",
      "|             0|          0|         0|   0|    52|           0|\n",
      "+--------------+-----------+----------+----+------+------------+\n",
      "\n"
     ]
    },
    {
     "name": "stderr",
     "output_type": "stream",
     "text": [
      "2024-09-13 06:23:49,630 - logger - INFO - \u001b[92mStep 3: Filling missing values in the 'Amount' column with the mean value...\u001b[0m\n",
      "2024-09-13 06:23:49,658 - logger - INFO - \u001b[92mStep 4: Checking for duplicate records based on 'Transaction_ID'...\u001b[0m\n"
     ]
    },
    {
     "name": "stdout",
     "output_type": "stream",
     "text": [
      "Mean value calculated for 'Amount': 282.78\n"
     ]
    },
    {
     "name": "stderr",
     "output_type": "stream",
     "text": [
      "2024-09-13 06:23:50,301 - logger - INFO - \u001b[92mNumber of duplicate records before dropping: 30\u001b[0m\n",
      "2024-09-13 06:23:50,740 - logger - INFO - \u001b[92mNumber of duplicate records after dropping: 0\u001b[0m\n",
      "2024-09-13 06:23:50,742 - logger - INFO - \u001b[92mStep 5: Ensuring 'Date' column is in YYYY-MM-DD format...\u001b[0m\n",
      "2024-09-13 06:23:50,764 - logger - INFO - \u001b[92mStep 6: Validating dates present in Date column...\u001b[0m\n",
      "2024-09-13 06:23:50,766 - logger - INFO - \u001b[92mStep 1: Identifying future dates in 'Interaction_Date'...\u001b[0m\n",
      "2024-09-13 06:23:51,205 - logger - INFO - \u001b[92mNo future dates found.\u001b[0m\n",
      "2024-09-13 06:23:51,207 - logger - INFO - \u001b[92mStep 7: Counting missing values in each column after filling them...\u001b[0m\n",
      "2024-09-13 06:23:51,861 - logger - INFO - \u001b[92mStep 8: Correcting non-positive values in the 'Amount' column...\u001b[0m\n",
      "2024-09-13 06:23:51,891 - logger - INFO - \u001b[92mStep 9: Displaying the cleaned 'transactions_df' DataFrame...\u001b[0m\n"
     ]
    },
    {
     "name": "stdout",
     "output_type": "stream",
     "text": [
      "+--------------+-----------+----------+----+------+------------+\n",
      "|Transaction_ID|Customer_ID|Product_ID|Date|Amount|Sales_Rep_ID|\n",
      "+--------------+-----------+----------+----+------+------------+\n",
      "|             0|          0|         0|   0|     0|           0|\n",
      "+--------------+-----------+----------+----+------+------------+\n",
      "\n"
     ]
    },
    {
     "name": "stderr",
     "output_type": "stream",
     "text": [
      "2024-09-13 06:23:52,285 - logger - INFO - \u001b[92mStep 10: Saving the cleaned data to 'cleaned_transactions.csv'...\u001b[0m\n"
     ]
    },
    {
     "name": "stdout",
     "output_type": "stream",
     "text": [
      "+------------------------------------+------------------------------------+----------+----------+------+------------------------------------+\n",
      "|Transaction_ID                      |Customer_ID                         |Product_ID|Date      |Amount|Sales_Rep_ID                        |\n",
      "+------------------------------------+------------------------------------+----------+----------+------+------------------------------------+\n",
      "|00212675-af49-4cbd-9766-4303572b7506|41b14a02-df69-4f06-bba9-a32a32d7c008|30        |2024-05-01|125.0 |61989b73-1807-414a-a75b-f194c0152dba|\n",
      "|003a04fd-3d61-4af1-bf78-64b4d8bec34b|2fbd8187-90f1-409e-89ff-3ff4cae288e6|14        |2024-01-23|50.0  |5184e796-6c9f-4019-907b-6e9e838430f3|\n",
      "|007fa68d-e211-47af-85dc-e02f7477b5a9|006af455-013b-4c09-a6df-15ca3d41010f|43        |2024-02-14|357.0 |33ea8c7d-1b0a-4be7-9cff-d35ea357325f|\n",
      "|00946fd1-cc54-4671-936d-7f6f25723e62|552651e9-3ff6-4c64-bdc5-863a8c65c5b2|28        |2024-01-19|448.0 |2f1183af-7ef6-498a-a851-91820338ff67|\n",
      "|00b3f73b-52d6-46ce-b71e-08522851906d|2dc3fe00-cfd8-423c-bf2a-8421f90fcc76|27        |2024-05-19|210.0 |05cc8513-8a8a-4598-862a-218d1093ae26|\n",
      "+------------------------------------+------------------------------------+----------+----------+------+------------------------------------+\n",
      "only showing top 5 rows\n",
      "\n"
     ]
    },
    {
     "name": "stderr",
     "output_type": "stream",
     "text": [
      "2024-09-13 06:23:52,552 - logger - INFO - \u001b[92mData cleaning and export completed successfully.\u001b[0m\n"
     ]
    },
    {
     "name": "stdout",
     "output_type": "stream",
     "text": [
      "Number of records after cleaning: 1000\n"
     ]
    }
   ],
   "source": [
    "# Step 1: Count missing values in each column before filling them\n",
    "logger.info(\"Step 1: Counting missing values in each column before filling them...\")\n",
    "missing_values_before = count_missing_values(transactions_df)\n",
    "missing_values_before.show()\n",
    "\n",
    "# Step 2: Calculate the mean value of the 'Amount' column\n",
    "logger.info(\"Step 2: Calculating the mean value of the 'Amount' column...\")\n",
    "mean_amount_row = transactions_df.agg(mean(\"Amount\")).collect()[0]\n",
    "mean_amount = mean_amount_row[0]\n",
    "print(f\"Mean value calculated for 'Amount': {mean_amount:.2f}\")\n",
    "\n",
    "# Step 3: Fill missing values in the 'Amount' column with the rounded mean value\n",
    "logger.info(\"Step 3: Filling missing values in the 'Amount' column with the mean value...\")\n",
    "cleaned_transactions_df = fill_missing_values(transactions_df, {\"Amount\": round(mean_amount, 2)})\n",
    "\n",
    "# Step 4: Check for duplicate records based on 'Transaction_ID'\n",
    "logger.info(\"Step 4: Checking for duplicate records based on 'Transaction_ID'...\")\n",
    "cleaned_transactions_df = drop_duplicates(cleaned_transactions_df, \"Transaction_ID\")\n",
    "\n",
    "# Step 5: Ensure 'Date' is in YYYY-MM-DD format\n",
    "logger.info(\"Step 5: Ensuring 'Date' column is in YYYY-MM-DD format...\")\n",
    "cleaned_transactions_df = cleaned_transactions_df.withColumn(\n",
    "    \"Date\", date_format(col(\"Date\"), \"yyyy-MM-dd\")\n",
    ")\n",
    "\n",
    "# Step 6: date validation \n",
    "logger.info(\"Step 6: Validating dates present in Date column...\")\n",
    "cleaned_transactions_df = date_validation(cleaned_transactions_df,\"Date\")\n",
    "\n",
    "# Step 7: Cross-verification after filling missing values in each column\n",
    "logger.info(\"Step 7: Counting missing values in each column after filling them...\")\n",
    "missing_values_after = count_missing_values(cleaned_transactions_df)\n",
    "missing_values_after.show()\n",
    "\n",
    "# Step 8: Correct inaccurate data (e.g., non-positive 'Amount')\n",
    "logger.info(\"Step 8: Correcting non-positive values in the 'Amount' column...\")\n",
    "corrected_transactions_df = cleaned_transactions_df.withColumn(\n",
    "    \"Amount\",\n",
    "    when(col(\"Amount\") <= 0, mean_amount).otherwise(col(\"Amount\"))\n",
    ")\n",
    "\n",
    "# Step 9: Display the cleaned DataFrame\n",
    "logger.info(\"Step 9: Displaying the cleaned 'transactions_df' DataFrame...\")\n",
    "corrected_transactions_df.show(5,truncate=False)\n",
    "\n",
    "# Step 10: Save the cleaned data to a new CSV\n",
    "logger.info(\"Step 10: Saving the cleaned data to 'cleaned_transactions.csv'...\")\n",
    "# save_df_to_csv(corrected_transactions_df, \"Cleaned_data/cleaned_transactions.csv\")\n",
    "\n",
    "# Display the count of records after phone number processing\n",
    "record_count_after_cleaning = cleaned_transactions_df.count()\n",
    "print(f\"Number of records after cleaning: {record_count_after_cleaning}\")\n",
    "logger.info(\"Data cleaning and export completed successfully.\")"
   ]
  },
  {
   "cell_type": "code",
   "execution_count": 6,
   "metadata": {},
   "outputs": [],
   "source": [
    "spark.stop()"
   ]
  }
 ],
 "metadata": {
  "kernelspec": {
   "display_name": "Python 3",
   "language": "python",
   "name": "python3"
  },
  "language_info": {
   "codemirror_mode": {
    "name": "ipython",
    "version": 3
   },
   "file_extension": ".py",
   "mimetype": "text/x-python",
   "name": "python",
   "nbconvert_exporter": "python",
   "pygments_lexer": "ipython3",
   "version": "3.11.9"
  }
 },
 "nbformat": 4,
 "nbformat_minor": 2
}
